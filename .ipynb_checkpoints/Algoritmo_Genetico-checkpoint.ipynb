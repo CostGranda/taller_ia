{
 "cells": [
  {
   "cell_type": "markdown",
   "metadata": {},
   "source": [
    "# OneMax \n",
    "\n",
    "El problema de OneMax (o BitCounting) es un problema que consiste en generar una cadena de bits que\n",
    "contenga la mayor cantidad de Unos (1)s. \n",
    "\n",
    "El problema en sí es muy simple y ampliamente utilizado en la educación de la comunidad computacional evolutiva.\n",
    "\n",
    "Formalmente, este problema se puede describir como encontrar una cadena\n",
    "${x}=\\{x_{1},x_{2},\\ldots{},x_{N}\\}$, con $x_{i}\\in \\{0,1\\}$,\n",
    "que maximize la siguiente función:\n",
    "\n",
    "\\begin{equation}\n",
    "F({x}) = \\sum_{i=1}^{N}{x_{i}}\n",
    "\\end{equation}\n",
    "\n",
    "Esta será nuestra *función de aptitud* (función de evaluación).\n"
   ]
  },
  {
   "cell_type": "markdown",
   "metadata": {},
   "source": [
    "Crearemos una población de individuos compuesta de vectores enteros llenos aleatoriamente con 0 y 1. \n",
    "\n",
    "Luego nuestra población evolucione hasta que uno de sus miembros contenga solo 1 y no 0 más."
   ]
  },
  {
   "cell_type": "markdown",
   "metadata": {},
   "source": [
    "## Herramientas \n",
    "\n",
    "* Escogimos el lenguaje de programación *Python*, por ser muy eficiente en cuando al analisis de datos y la ciencia de datos.\n",
    "* Utilizamos DEAP, que es un framework especializado en la computación evolutiva.\n",
    "* La interfaz estará a cargo de una aplicación web llamada *Jupyter*\n"
   ]
  },
  {
   "cell_type": "markdown",
   "metadata": {},
   "source": [
    "## Descripción del algoritmo\n"
   ]
  },
  {
   "cell_type": "markdown",
   "metadata": {},
   "source": [
    "Importación de Librerias"
   ]
  },
  {
   "cell_type": "code",
   "execution_count": null,
   "metadata": {
    "collapsed": true
   },
   "outputs": [],
   "source": [
    "import array\n",
    "import random\n",
    "import numpy\n",
    "from deap import algorithms, base, creator, tools"
   ]
  },
  {
   "cell_type": "markdown",
   "metadata": {},
   "source": [
    "Nuestra función de evaluación:"
   ]
  },
  {
   "cell_type": "code",
   "execution_count": null,
   "metadata": {
    "collapsed": true
   },
   "outputs": [],
   "source": [
    "def func_eval(individuo):\n",
    "    # Sumatoria de 1s en el individuo.\n",
    "    return sum(individuo),"
   ]
  },
  {
   "cell_type": "markdown",
   "metadata": {},
   "source": [
    "Clase que hereda de Fitness (Mide la calidad de una solución, y le envian los valores iniciales en tupla(1.0))"
   ]
  },
  {
   "cell_type": "code",
   "execution_count": null,
   "metadata": {
    "collapsed": true
   },
   "outputs": [],
   "source": [
    "creator.create(\"AptitudMax\", base.Fitness, weights=(1.0,))\n",
    "# Crea otra clase de con un array de tipo binario.\n",
    "creator.create(\"Individuo\", array.array, typecode='b', fitness=creator.AptitudMax)"
   ]
  },
  {
   "cell_type": "markdown",
   "metadata": {},
   "source": [
    "Inicializa la \"caja\" de herramientas, para configurarla a nuestro gusto.\n"
   ]
  },
  {
   "cell_type": "code",
   "execution_count": null,
   "metadata": {
    "collapsed": true
   },
   "outputs": [],
   "source": [
    "toolbox = base.Toolbox()"
   ]
  },
  {
   "cell_type": "markdown",
   "metadata": {},
   "source": [
    "Generador de los atributos (0 y 1)"
   ]
  },
  {
   "cell_type": "code",
   "execution_count": null,
   "metadata": {
    "collapsed": true
   },
   "outputs": [],
   "source": [
    "toolbox.register(\"attr_bool\", random.randint, 0, 1)"
   ]
  },
  {
   "cell_type": "markdown",
   "metadata": {},
   "source": [
    "**Inicializadores**"
   ]
  },
  {
   "cell_type": "code",
   "execution_count": null,
   "metadata": {
    "collapsed": true
   },
   "outputs": [],
   "source": [
    "# En este caso queremos que el mejor individuo contenga 20 uno (1)s\n",
    "toolbox.register(\"individuo\", tools.initRepeat, creator.Individuo, toolbox.attr_bool, 20)\n",
    "# La población se rellena de listas de individuos\n",
    "toolbox.register(\"poblacion\", tools.initRepeat, list, toolbox.individuo)\n",
    "\n",
    "# Registra el operador de evaluación (nuestra función)\n",
    "toolbox.register(\"evaluate\", func_eval)\n",
    "\n",
    "# Registra el operador de cruze (dos puntos)\n",
    "toolbox.register(\"mate\", tools.cxTwoPoint)\n",
    "\n",
    "# Resgistra el operador de muación, con la probabilidad del 5% que cada uno sea convertido 5\n",
    "toolbox.register(\"mutate\", tools.mutFlipBit, indpb=0.05)\n",
    "\n",
    "# Operador para seleccionar los individuos que servirán para reproducción, \n",
    "# tournsize es el numero de individuos participando\n",
    "toolbox.register(\"select\", tools.selTournament, tournsize=3)"
   ]
  },
  {
   "cell_type": "markdown",
   "metadata": {},
   "source": [
    "Aquí definimos todas la lógica que va desarrollar el algoritmo.\n",
    "\n",
    "Los parametros iniciales fueron: \n",
    "* Población: 300\n",
    "* Número de generaciones: 5\n",
    "* Probabilidad de Mutación: 50%\n",
    "* Probabilidad de Cruce: 20%\n",
    "\n"
   ]
  },
  {
   "cell_type": "markdown",
   "metadata": {},
   "source": [
    "Semilla para la aleatoriedad, es necesaria ya que los numeros generados por un lenguaje de programación \n",
    "son pseudoaleatorios, y necesitan una semilla para comenzar a generar, si no se indica, generalmente obtienen\n",
    "la hora del ordenador."
   ]
  },
  {
   "cell_type": "code",
   "execution_count": null,
   "metadata": {
    "collapsed": true
   },
   "outputs": [],
   "source": [
    "random.seed(64)"
   ]
  },
  {
   "cell_type": "markdown",
   "metadata": {},
   "source": [
    "Se indica el tamaño de la población"
   ]
  },
  {
   "cell_type": "code",
   "execution_count": null,
   "metadata": {
    "collapsed": true
   },
   "outputs": [],
   "source": [
    "poblacion = toolbox.poblacion(n=300)"
   ]
  },
  {
   "cell_type": "markdown",
   "metadata": {},
   "source": [
    "Contiene el mejor individuo que haya vivido en la población durante la evolución."
   ]
  },
  {
   "cell_type": "code",
   "execution_count": null,
   "metadata": {
    "collapsed": true
   },
   "outputs": [],
   "source": [
    "hof = tools.HallOfFame(1)"
   ]
  },
  {
   "cell_type": "markdown",
   "metadata": {},
   "source": [
    "Aquí definimos las estadisticas que queremos que sean tomadas en cuenta ya arrojadas en el log del programa.\n",
    "Nos interesa el mínimo, el máximo y el promedio de 1s en el individuo."
   ]
  },
  {
   "cell_type": "code",
   "execution_count": null,
   "metadata": {
    "collapsed": true
   },
   "outputs": [],
   "source": [
    "stats = tools.Statistics(lambda ind: ind.fitness.values)\n",
    "stats.register(\"Promedio\", numpy.mean)\n",
    "stats.register(\"min\", numpy.min)\n",
    "stats.register(\"max\", numpy.max)"
   ]
  },
  {
   "cell_type": "markdown",
   "metadata": {},
   "source": [
    "DEAP, nos facilita todo el ciclo de evaluar cada inidviduo de la población y nos entrega un algoritmo que lo realiza de una manera más eficiente. \n",
    "\n",
    "Este algoritmo por defecto que toma los valores de probabilidad de cruze (cxpb), Probabilidad de mutación (mutpb), \n",
    "Numero de Generaciones (ngen), las stadisticas que queremos mostrar (stats)\n",
    "Retorna una tupla con el log, y la población final."
   ]
  },
  {
   "cell_type": "code",
   "execution_count": null,
   "metadata": {
    "collapsed": true
   },
   "outputs": [],
   "source": [
    "poblacion, log = algorithms.eaSimple(poblacion, toolbox, cxpb=0.5, mutpb=0.2, ngen=5,\n",
    "                               stats=stats, halloffame=hof, verbose=True)"
   ]
  },
  {
   "cell_type": "markdown",
   "metadata": {},
   "source": [
    "Una vez que tenemos el log y la población final (luego de las generaciones), podemos seleccionar un top de los mejores individuos, o simplemente el mejor."
   ]
  },
  {
   "cell_type": "markdown",
   "metadata": {},
   "source": [
    "Mejor Individuo:\n",
    "\n",
    "    array('b', [1, 1, 1, 1, 1, 1, 1, 1, 1, 1, 1, 1, 1, 1, 1, 1, 1, 1, 1, 1])\n",
    "\n",
    "Número de Unos: 20"
   ]
  }
 ],
 "metadata": {
  "kernelspec": {
   "display_name": "Python 3",
   "language": "python",
   "name": "python3"
  },
  "language_info": {
   "codemirror_mode": {
    "name": "ipython",
    "version": 3
   },
   "file_extension": ".py",
   "mimetype": "text/x-python",
   "name": "python",
   "nbconvert_exporter": "python",
   "pygments_lexer": "ipython3",
   "version": "3.6.2"
  }
 },
 "nbformat": 4,
 "nbformat_minor": 2
}
